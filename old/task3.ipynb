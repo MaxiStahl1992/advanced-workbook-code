{
 "cells": [
  {
   "cell_type": "markdown",
   "metadata": {},
   "source": [
    "# Understanding Confounders in AI\n",
    "#### Confounders Defined: \n",
    "A confounder is a hidden variable that influences both the independent variable (your features) and the dependent variable (your target or what you're trying to predict). This creates a spurious, non-causal association that can mislead your ML model.\n",
    "\n",
    "#### AI Example: \n",
    "Imagine training an AI model to predict the likelihood of someone developing heart disease.  Factors like age, diet, and exercise habits  are relevant predictors.  However, a confounder might be a genetic predisposition that increases the risk of heart disease and independently influences dietary choices.\n",
    "\n",
    "#### The Problem: \n",
    "If the confounder (genetic predisposition) is not accounted for, your model might attribute too much weight to dietary choices, underestimating the true impact of genetics.  This leads to inaccurate predictions and a flawed understanding of the underlying relationships.\n",
    "\n",
    "### Why Addressing Confounders Matters\n",
    "#### Model Interpretation: \n",
    "Confounders hinder your ability to accurately interpret how features influence the target variable. You might mistakenly overestimate or underestimate the importance of certain factors.\n",
    "\n",
    "#### Model Reliability:  \n",
    "When your model encounters data with different distributions of the confounding variable (e.g., a different demographic group with varying genetic predispositions), its predictions might become unreliable.\n",
    "\n",
    "### Technique: Adjusting for Confounders\n",
    "One common technique in AI for addressing confounders is Matching.  Here's the general idea with a simplified example:\n",
    "\n",
    "* Identify the Confounder: \n",
    "In our heart disease example, let's say you identify \"family history of heart disease\" as a potential confounder.\n",
    "* Create Matched Pairs: \n",
    "You would form pairs of individuals who are similar across all relevant features except for the confounder (e.g., one person with a family history of heart disease and one without, but otherwise similar age, diet, etc.).\n",
    "* Train Within Pairs: \n",
    "Analyze differences in outcomes (heart disease development) within these matched pairs.  This helps isolate the impact of the confounder, minimizing its influence on the perceived relationship between your features and the target variable.\n",
    "\n",
    "### Other Adjustment Techniques\n",
    "* Propensity Score Matching: A more sophisticated version of matching that accounts for multiple confounders simultaneously.\n",
    "* Regression Techniques: Include the confounder as an additional feature in regression models to control for its effect.\n",
    "* Causal Inference Methods: In specific situations, techniques from causal inference aim to isolate true causal relationships even in the presence of confounders.\n",
    "\n",
    "#### Important Considerations\n",
    "* Identifying Confounders: \n",
    "This requires domain knowledge and a critical understanding of the problem and the data.\n",
    "* Data Availability: \n",
    "Adjusting for confounders might necessitate collecting data on potential confounding variables.\n",
    "* Complexity: \n",
    "Techniques for confounder adjustment can add complexity to your modeling process."
   ]
  },
  {
   "cell_type": "markdown",
   "metadata": {},
   "source": [
    "# Example\n",
    "#### Target\n",
    "heart_disease:\n",
    "* 0 -> No heart disease\n",
    "* 1 -> Heart disease\n",
    "\n",
    "#### Features\n",
    "* age\n",
    "* diet (numerical score representing healthy eating habits)\n",
    "* exercise (hours of exercise per week)\n",
    "\n",
    "#### Confounder\n",
    "family_history:\n",
    "* 0 -> No heart disease\n",
    "* 1 -> Heart disease"
   ]
  },
  {
   "cell_type": "code",
   "execution_count": 49,
   "metadata": {},
   "outputs": [],
   "source": [
    "# imports\n",
    "import numpy as np\n",
    "import pandas as pd\n",
    "from sklearn.model_selection import train_test_split\n",
    "from sklearn.linear_model import LogisticRegression\n",
    "from sklearn.metrics import accuracy_score, roc_auc_score"
   ]
  },
  {
   "cell_type": "code",
   "execution_count": 50,
   "metadata": {},
   "outputs": [
    {
     "name": "stdout",
     "output_type": "stream",
     "text": [
      "heart_disease\n",
      "False    551\n",
      "True     449\n",
      "Name: count, dtype: int64\n"
     ]
    },
    {
     "data": {
      "text/html": [
       "<div>\n",
       "<style scoped>\n",
       "    .dataframe tbody tr th:only-of-type {\n",
       "        vertical-align: middle;\n",
       "    }\n",
       "\n",
       "    .dataframe tbody tr th {\n",
       "        vertical-align: top;\n",
       "    }\n",
       "\n",
       "    .dataframe thead th {\n",
       "        text-align: right;\n",
       "    }\n",
       "</style>\n",
       "<table border=\"1\" class=\"dataframe\">\n",
       "  <thead>\n",
       "    <tr style=\"text-align: right;\">\n",
       "      <th></th>\n",
       "      <th>age</th>\n",
       "      <th>diet</th>\n",
       "      <th>exercise</th>\n",
       "      <th>family_history</th>\n",
       "      <th>heart_disease</th>\n",
       "    </tr>\n",
       "  </thead>\n",
       "  <tbody>\n",
       "    <tr>\n",
       "      <th>0</th>\n",
       "      <td>47</td>\n",
       "      <td>3</td>\n",
       "      <td>2.027615</td>\n",
       "      <td>0</td>\n",
       "      <td>False</td>\n",
       "    </tr>\n",
       "    <tr>\n",
       "      <th>1</th>\n",
       "      <td>43</td>\n",
       "      <td>4</td>\n",
       "      <td>3.652187</td>\n",
       "      <td>0</td>\n",
       "      <td>False</td>\n",
       "    </tr>\n",
       "    <tr>\n",
       "      <th>2</th>\n",
       "      <td>71</td>\n",
       "      <td>3</td>\n",
       "      <td>0.679628</td>\n",
       "      <td>1</td>\n",
       "      <td>False</td>\n",
       "    </tr>\n",
       "    <tr>\n",
       "      <th>3</th>\n",
       "      <td>35</td>\n",
       "      <td>5</td>\n",
       "      <td>7.400895</td>\n",
       "      <td>0</td>\n",
       "      <td>True</td>\n",
       "    </tr>\n",
       "    <tr>\n",
       "      <th>4</th>\n",
       "      <td>41</td>\n",
       "      <td>4</td>\n",
       "      <td>3.767877</td>\n",
       "      <td>0</td>\n",
       "      <td>False</td>\n",
       "    </tr>\n",
       "  </tbody>\n",
       "</table>\n",
       "</div>"
      ],
      "text/plain": [
       "   age  diet  exercise  family_history  heart_disease\n",
       "0   47     3  2.027615               0          False\n",
       "1   43     4  3.652187               0          False\n",
       "2   71     3  0.679628               1          False\n",
       "3   35     5  7.400895               0           True\n",
       "4   41     4  3.767877               0          False"
      ]
     },
     "execution_count": 50,
     "metadata": {},
     "output_type": "execute_result"
    }
   ],
   "source": [
    "# data generation\n",
    "num_samples = 1000 # number of individuals in our dataset\n",
    "confounder_strength = 0.6 # how much the confounder affects the outcome\n",
    "\n",
    "np.random.seed(73)\n",
    "\n",
    "# features\n",
    "age = np.random.randint(25, 80, num_samples)\n",
    "diet = np.random.randint(0,6, num_samples) # Diet score from 0-5 (0 is good, 5 is bad)\n",
    "exercise = np.random.rand(num_samples) * 8 # Hours of exercise per week\n",
    "\n",
    "# confounder\n",
    "family_history = np.random.randint(0, 2, num_samples)\n",
    "\n",
    "# outcome -> Formula is entirly made up, it just serves the purpose of this example (should return about 50% True)\n",
    "def develop_heart_disease(age, diet, exercise, family_history):\n",
    "    risk = -3 + age * 0.02 + diet * 0.3 + exercise * 0.2 + family_history * confounder_strength\n",
    "    probability = 1 / (1 + np.exp(-risk))\n",
    "    return np.random.rand() < probability\n",
    "\n",
    "heart_disease = np.array([develop_heart_disease(age[i], diet[i], exercise[i], family_history[i]) for i in range(num_samples)])\n",
    "\n",
    "data = pd.DataFrame({\n",
    "    'age': age,\n",
    "    'diet': diet,\n",
    "    'exercise': exercise,\n",
    "    'family_history': family_history,\n",
    "    'heart_disease': heart_disease\n",
    "})\n",
    "\n",
    "print(data['heart_disease'].value_counts())\n",
    "data.head()"
   ]
  },
  {
   "cell_type": "code",
   "execution_count": null,
   "metadata": {},
   "outputs": [],
   "source": []
  },
  {
   "cell_type": "code",
   "execution_count": 51,
   "metadata": {},
   "outputs": [
    {
     "name": "stdout",
     "output_type": "stream",
     "text": [
      "Accuracy without matching: 0.65\n",
      "ROC AUC without matching: 0.6493649364936493\n",
      "          feature  coefficient\n",
      "0             age     0.016519\n",
      "1            diet     0.278045\n",
      "2        exercise     0.228303\n",
      "3  family_history     0.419373\n"
     ]
    }
   ],
   "source": [
    "# prepare data for training\n",
    "X = data[['age', 'diet', 'exercise', 'family_history']]\n",
    "y = data['heart_disease']\n",
    "\n",
    "X_train, X_test, y_train, y_test = train_test_split(X, y, test_size=0.2, random_state=73)\n",
    "\n",
    "# model without matching\n",
    "model = LogisticRegression()\n",
    "model.fit(X_train, y_train)\n",
    "\n",
    "y_pred = model.predict(X_test)\n",
    "\n",
    "accuracy_no_matching = accuracy_score(y_test, y_pred)\n",
    "roc_auc_no_matching = roc_auc_score(y_test, y_pred)\n",
    "\n",
    "print(f'Accuracy without matching: {accuracy_no_matching}')\n",
    "print(f'ROC AUC without matching: {roc_auc_no_matching}')\n",
    "\n",
    "coefficients_no_matching = pd.DataFrame({'feature': X.columns, 'coefficient': model.coef_[0]})\n",
    "print(coefficients_no_matching)"
   ]
  },
  {
   "cell_type": "markdown",
   "metadata": {},
   "source": [
    "Accuracy and Roc Auc -> moderate performance \n",
    "Coefficients -> family_history has the largest impact. It is hard to say whether this is due to true causation or confounder influcence on features. "
   ]
  },
  {
   "cell_type": "code",
   "execution_count": 55,
   "metadata": {},
   "outputs": [
    {
     "name": "stdout",
     "output_type": "stream",
     "text": [
      "This is group 0\n",
      "Accuracy for group 0: 0.6372549019607843\n",
      "ROC AUC for group 0: 0.5951612903225806\n",
      "    feature  coefficient\n",
      "0       age     0.015758\n",
      "1      diet     0.292451\n",
      "2  exercise     0.246440\n",
      "\n",
      "\n",
      "This is group 1\n",
      "Accuracy for group 1: 0.6666666666666666\n",
      "ROC AUC for group 1: 0.6642798690671032\n",
      "    feature  coefficient\n",
      "0       age     0.012553\n",
      "1      diet     0.286784\n",
      "2  exercise     0.198278\n",
      "\n",
      "\n"
     ]
    }
   ],
   "source": [
    "# model with matching, splitting into two groups\n",
    "groups = data.groupby('family_history')\n",
    "\n",
    "for group_value, group_data in groups:\n",
    "    X_group = group_data[['age', 'diet', 'exercise']]\n",
    "    y_group = group_data['heart_disease']\n",
    "\n",
    "    X_train_group, X_test_group, y_train_group, y_test_group = train_test_split(X_group, y_group, test_size=0.2, random_state=73)\n",
    "\n",
    "    model_group = LogisticRegression()\n",
    "    model_group.fit(X_train_group, y_train_group)\n",
    "\n",
    "    y_pred_group = model_group.predict(X_test_group)\n",
    "\n",
    "    print(f'This is group {group_value}')\n",
    "    print(f'Accuracy for group {group_value}: {accuracy_score(y_test_group, y_pred_group)}')\n",
    "    print(f'ROC AUC for group {group_value}: {roc_auc_score(y_test_group, y_pred_group)}')\n",
    "\n",
    "    coefficients_group = pd.DataFrame({'feature': X_group.columns, 'coefficient': model_group.coef_[0]})\n",
    "    print(coefficients_group)\n",
    "    print('\\n')"
   ]
  },
  {
   "cell_type": "markdown",
   "metadata": {},
   "source": [
    "# Interpretation"
   ]
  }
 ],
 "metadata": {
  "kernelspec": {
   "display_name": "venv",
   "language": "python",
   "name": "python3"
  },
  "language_info": {
   "codemirror_mode": {
    "name": "ipython",
    "version": 3
   },
   "file_extension": ".py",
   "mimetype": "text/x-python",
   "name": "python",
   "nbconvert_exporter": "python",
   "pygments_lexer": "ipython3",
   "version": "3.11.5"
  }
 },
 "nbformat": 4,
 "nbformat_minor": 2
}
