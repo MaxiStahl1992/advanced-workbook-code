{
 "cells": [
  {
   "cell_type": "markdown",
   "metadata": {},
   "source": [
    "Understanding the Effect of Diet on Weight Loss:\n",
    "We start by acknowledging that we are dealing with observational data. This means our data is not from a randomized control trial and may contain biases and confounding variables. The primary goal is to estimate the causal effect of diet on weight loss.\n",
    "Impact of Missing Values:\n",
    "Missing data can significantly impact the validity and accuracy of an analysis in observational studies. If data are missing not at random (MNAR) — meaning the probability of missingness is related to the value itself, perhaps due to sensitivity or reluctance to report certain dietary habits — this can introduce bias into the estimates of the effect of diet on weight loss.\n",
    "Imputation Techniques and Causal Structure:\n",
    "Conventional imputation techniques, like mean imputation or regression imputation, often ignore the underlying causal structure between variables and can lead to biased estimates. An imputation method that considers the causal relationships among variables is more likely to yield unbiased estimates.\n",
    "Proposing a Causal Approach to Handle Missing Data:\n",
    "One effective causal approach to handle missing data is the use of multiple imputation with a causal model (e.g., a Bayesian network). This technique involves creating several different plausible imputations of the missing data based on the distributions conditional on the observed data and the assumed causal model. Each complete dataset (with the imputed values) is then analyzed, and the results are combined to produce estimates that reflect the uncertainty due to the missing data.\n",
    "Justification for Causal Imputation:\n",
    "Using a causal approach for imputation is crucial because it allows the imputation model to utilize information about the causal relationships between variables. This results in more accurate imputations that are consistent with the observed data's generating process. It helps in maintaining the validity of causal inferences, making the estimates of the effect of diet on weight loss more reliable and consistent."
   ]
  },
  {
   "cell_type": "code",
   "execution_count": 186,
   "metadata": {},
   "outputs": [],
   "source": [
    "import pandas as pd\n",
    "import numpy as np\n",
    "from matplotlib import pyplot as plt\n",
    "from sklearn.linear_model import LinearRegression\n",
    "from sklearn.metrics import mean_squared_error\n",
    "from sklearn.impute import SimpleImputer\n",
    "from sklearn.model_selection import train_test_split"
   ]
  },
  {
   "cell_type": "code",
   "execution_count": 187,
   "metadata": {},
   "outputs": [
    {
     "data": {
      "text/html": [
       "<div>\n",
       "<style scoped>\n",
       "    .dataframe tbody tr th:only-of-type {\n",
       "        vertical-align: middle;\n",
       "    }\n",
       "\n",
       "    .dataframe tbody tr th {\n",
       "        vertical-align: top;\n",
       "    }\n",
       "\n",
       "    .dataframe thead th {\n",
       "        text-align: right;\n",
       "    }\n",
       "</style>\n",
       "<table border=\"1\" class=\"dataframe\">\n",
       "  <thead>\n",
       "    <tr style=\"text-align: right;\">\n",
       "      <th></th>\n",
       "      <th>Age</th>\n",
       "      <th>Diet</th>\n",
       "      <th>ActivityLevel</th>\n",
       "      <th>WeightLoss</th>\n",
       "    </tr>\n",
       "  </thead>\n",
       "  <tbody>\n",
       "    <tr>\n",
       "      <th>0</th>\n",
       "      <td>40</td>\n",
       "      <td>1287.188805</td>\n",
       "      <td>1</td>\n",
       "      <td>5.315020</td>\n",
       "    </tr>\n",
       "    <tr>\n",
       "      <th>1</th>\n",
       "      <td>36</td>\n",
       "      <td>1757.059509</td>\n",
       "      <td>2</td>\n",
       "      <td>5.969944</td>\n",
       "    </tr>\n",
       "    <tr>\n",
       "      <th>2</th>\n",
       "      <td>64</td>\n",
       "      <td>1679.476888</td>\n",
       "      <td>3</td>\n",
       "      <td>6.573033</td>\n",
       "    </tr>\n",
       "    <tr>\n",
       "      <th>3</th>\n",
       "      <td>28</td>\n",
       "      <td>1894.734777</td>\n",
       "      <td>3</td>\n",
       "      <td>5.768518</td>\n",
       "    </tr>\n",
       "    <tr>\n",
       "      <th>4</th>\n",
       "      <td>34</td>\n",
       "      <td>NaN</td>\n",
       "      <td>3</td>\n",
       "      <td>4.870618</td>\n",
       "    </tr>\n",
       "  </tbody>\n",
       "</table>\n",
       "</div>"
      ],
      "text/plain": [
       "   Age         Diet  ActivityLevel  WeightLoss\n",
       "0   40  1287.188805              1    5.315020\n",
       "1   36  1757.059509              2    5.969944\n",
       "2   64  1679.476888              3    6.573033\n",
       "3   28  1894.734777              3    5.768518\n",
       "4   34          NaN              3    4.870618"
      ]
     },
     "execution_count": 187,
     "metadata": {},
     "output_type": "execute_result"
    }
   ],
   "source": [
    "# Seed for reproducibility\n",
    "np.random.seed(73)\n",
    "\n",
    "# Simulate data\n",
    "data_size = 200\n",
    "data = {\n",
    "    'Age': np.random.randint(18, 65, data_size),  # Random ages between 18 and 65\n",
    "    'Diet': np.random.normal(1500, 300, data_size),  # Normal distribution around 1500 calories\n",
    "    'ActivityLevel': np.random.randint(1, 4, data_size),  # Random levels 1, 2, 3\n",
    "    'WeightLoss': np.zeros(data_size)  # Initialize with zeros\n",
    "}\n",
    "\n",
    "df = pd.DataFrame(data)\n",
    "df['WeightLoss'] = 3 + 0.002 * df['Diet'] - 0.5 * df['ActivityLevel'] + np.random.normal(0, 1.2, data_size)\n",
    "\n",
    "# Introduce missing values\n",
    "missingness = np.random.binomial(1, 0.1, data_size)  # 10% missing data\n",
    "df.loc[missingness == 1, 'Diet'] = np.nan\n",
    "df.head()"
   ]
  },
  {
   "cell_type": "code",
   "execution_count": 188,
   "metadata": {},
   "outputs": [
    {
     "name": "stdout",
     "output_type": "stream",
     "text": [
      "   Age         Diet  ActivityLevel  WeightLoss\n",
      "0   40  1287.188805              1    5.315020\n",
      "1   36  1757.059509              2    5.969944\n",
      "2   64  1679.476888              3    6.573033\n",
      "3   28  1894.734777              3    5.768518\n",
      "5   26  1577.299710              2    5.823286\n",
      "    Age         Diet  ActivityLevel  WeightLoss\n",
      "0  40.0  1287.188805            1.0    5.315020\n",
      "1  36.0  1757.059509            2.0    5.969944\n",
      "2  64.0  1679.476888            3.0    6.573033\n",
      "3  28.0  1894.734777            3.0    5.768518\n",
      "4  34.0  1475.626630            3.0    4.870618\n",
      "<class 'pandas.core.frame.DataFrame'>\n",
      "Index: 174 entries, 0 to 199\n",
      "Data columns (total 4 columns):\n",
      " #   Column         Non-Null Count  Dtype  \n",
      "---  ------         --------------  -----  \n",
      " 0   Age            174 non-null    int64  \n",
      " 1   Diet           174 non-null    float64\n",
      " 2   ActivityLevel  174 non-null    int64  \n",
      " 3   WeightLoss     174 non-null    float64\n",
      "dtypes: float64(2), int64(2)\n",
      "memory usage: 6.8 KB\n"
     ]
    }
   ],
   "source": [
    "# A. No Imputation\n",
    "df_no_imputation = df.dropna()\n",
    "\n",
    "# B. Simple Imputation\n",
    "simple_imputer = SimpleImputer(strategy='mean')\n",
    "df_simple_imputed = pd.DataFrame(simple_imputer.fit_transform(df), columns=df.columns)\n",
    "\n",
    "print(df_no_imputation.head())\n",
    "print(df_simple_imputed.head())\n",
    "df_no_imputation.info()"
   ]
  },
  {
   "cell_type": "markdown",
   "metadata": {},
   "source": [
    "Steps to Develop a Bayesian Imputation Model:\n",
    "Define the Structure of the Bayesian Network:\n",
    "We will assume a probable structure based on your description:\n",
    "Age and ActivityLevel may influence Diet.\n",
    "There might also be an interaction where Age and ActivityLevel could together influence Diet.\n",
    "WeightLoss could be influenced by Diet but for the purpose of imputation, we'll consider it as independent to keep the structure simpler.\n",
    "Learn the Model Parameters:\n",
    "We will use the complete cases to learn the parameters of the network.\n",
    "Set Up the Inference Engine:\n",
    "We'll configure an inference engine to estimate the missing Diet values.\n",
    "Perform Bayesian Imputation:\n",
    "For rows where Diet is missing, we'll estimate the most probable value given the evidence from other variables."
   ]
  },
  {
   "cell_type": "code",
   "execution_count": 189,
   "metadata": {},
   "outputs": [
    {
     "data": {
      "application/vnd.jupyter.widget-view+json": {
       "model_id": "2ec7e8ec6be84a2681db925485e0dce9",
       "version_major": 2,
       "version_minor": 0
      },
      "text/plain": [
       "0it [00:00, ?it/s]"
      ]
     },
     "metadata": {},
     "output_type": "display_data"
    },
    {
     "data": {
      "application/vnd.jupyter.widget-view+json": {
       "model_id": "6a633d88e8db41d1bbff15f78d773b97",
       "version_major": 2,
       "version_minor": 0
      },
      "text/plain": [
       "0it [00:00, ?it/s]"
      ]
     },
     "metadata": {},
     "output_type": "display_data"
    },
    {
     "data": {
      "application/vnd.jupyter.widget-view+json": {
       "model_id": "0d1f21db83bf4b0bb925102f109b754c",
       "version_major": 2,
       "version_minor": 0
      },
      "text/plain": [
       "0it [00:00, ?it/s]"
      ]
     },
     "metadata": {},
     "output_type": "display_data"
    },
    {
     "data": {
      "application/vnd.jupyter.widget-view+json": {
       "model_id": "1cd2562de3504ab39becee475905c44b",
       "version_major": 2,
       "version_minor": 0
      },
      "text/plain": [
       "0it [00:00, ?it/s]"
      ]
     },
     "metadata": {},
     "output_type": "display_data"
    },
    {
     "data": {
      "application/vnd.jupyter.widget-view+json": {
       "model_id": "ba1def0c53e345f38951368d46a0265e",
       "version_major": 2,
       "version_minor": 0
      },
      "text/plain": [
       "0it [00:00, ?it/s]"
      ]
     },
     "metadata": {},
     "output_type": "display_data"
    },
    {
     "data": {
      "application/vnd.jupyter.widget-view+json": {
       "model_id": "d97afe08b06e4f0295e4e3abe16453c1",
       "version_major": 2,
       "version_minor": 0
      },
      "text/plain": [
       "0it [00:00, ?it/s]"
      ]
     },
     "metadata": {},
     "output_type": "display_data"
    },
    {
     "data": {
      "application/vnd.jupyter.widget-view+json": {
       "model_id": "c9f95d76060045709f4c004bda70f436",
       "version_major": 2,
       "version_minor": 0
      },
      "text/plain": [
       "0it [00:00, ?it/s]"
      ]
     },
     "metadata": {},
     "output_type": "display_data"
    },
    {
     "data": {
      "application/vnd.jupyter.widget-view+json": {
       "model_id": "192c07e958164ea7a95615e3e98e1843",
       "version_major": 2,
       "version_minor": 0
      },
      "text/plain": [
       "0it [00:00, ?it/s]"
      ]
     },
     "metadata": {},
     "output_type": "display_data"
    },
    {
     "data": {
      "application/vnd.jupyter.widget-view+json": {
       "model_id": "1e8bad45ed634a958c30d9d7a36bd421",
       "version_major": 2,
       "version_minor": 0
      },
      "text/plain": [
       "0it [00:00, ?it/s]"
      ]
     },
     "metadata": {},
     "output_type": "display_data"
    },
    {
     "data": {
      "application/vnd.jupyter.widget-view+json": {
       "model_id": "2c85c8c967ea43c9bb0e59fd34ef010d",
       "version_major": 2,
       "version_minor": 0
      },
      "text/plain": [
       "0it [00:00, ?it/s]"
      ]
     },
     "metadata": {},
     "output_type": "display_data"
    },
    {
     "name": "stderr",
     "output_type": "stream",
     "text": [
      "WARNING:pgmpy:Found unknown state name. Trying to switch to using all state names as state numbers\n",
      "WARNING:pgmpy:Found unknown state name. Trying to switch to using all state names as state numbers\n"
     ]
    },
    {
     "data": {
      "application/vnd.jupyter.widget-view+json": {
       "model_id": "b18991bc858b4953a49f3f9e252b9f31",
       "version_major": 2,
       "version_minor": 0
      },
      "text/plain": [
       "0it [00:00, ?it/s]"
      ]
     },
     "metadata": {},
     "output_type": "display_data"
    },
    {
     "data": {
      "application/vnd.jupyter.widget-view+json": {
       "model_id": "c5253f59273d481ea930864b4748df24",
       "version_major": 2,
       "version_minor": 0
      },
      "text/plain": [
       "0it [00:00, ?it/s]"
      ]
     },
     "metadata": {},
     "output_type": "display_data"
    },
    {
     "data": {
      "application/vnd.jupyter.widget-view+json": {
       "model_id": "96698b8ff6cd4740b0bf858c34aa9959",
       "version_major": 2,
       "version_minor": 0
      },
      "text/plain": [
       "0it [00:00, ?it/s]"
      ]
     },
     "metadata": {},
     "output_type": "display_data"
    },
    {
     "data": {
      "application/vnd.jupyter.widget-view+json": {
       "model_id": "fbc18eb29aed43628d6569736a60a16f",
       "version_major": 2,
       "version_minor": 0
      },
      "text/plain": [
       "0it [00:00, ?it/s]"
      ]
     },
     "metadata": {},
     "output_type": "display_data"
    },
    {
     "data": {
      "application/vnd.jupyter.widget-view+json": {
       "model_id": "0e8ed0b4bb0e4470a6f9448ede93b9a0",
       "version_major": 2,
       "version_minor": 0
      },
      "text/plain": [
       "0it [00:00, ?it/s]"
      ]
     },
     "metadata": {},
     "output_type": "display_data"
    },
    {
     "data": {
      "application/vnd.jupyter.widget-view+json": {
       "model_id": "6423f9f750b8475c9e3eeae3e8131b4b",
       "version_major": 2,
       "version_minor": 0
      },
      "text/plain": [
       "0it [00:00, ?it/s]"
      ]
     },
     "metadata": {},
     "output_type": "display_data"
    },
    {
     "data": {
      "application/vnd.jupyter.widget-view+json": {
       "model_id": "49bab648bc0e41a4bbeca8d14ec4d7a6",
       "version_major": 2,
       "version_minor": 0
      },
      "text/plain": [
       "0it [00:00, ?it/s]"
      ]
     },
     "metadata": {},
     "output_type": "display_data"
    },
    {
     "data": {
      "application/vnd.jupyter.widget-view+json": {
       "model_id": "dbeca427d302418b99df4e16d3380c2c",
       "version_major": 2,
       "version_minor": 0
      },
      "text/plain": [
       "0it [00:00, ?it/s]"
      ]
     },
     "metadata": {},
     "output_type": "display_data"
    },
    {
     "data": {
      "application/vnd.jupyter.widget-view+json": {
       "model_id": "2a183cb297a9492b8fef90c0070d98b5",
       "version_major": 2,
       "version_minor": 0
      },
      "text/plain": [
       "0it [00:00, ?it/s]"
      ]
     },
     "metadata": {},
     "output_type": "display_data"
    },
    {
     "data": {
      "application/vnd.jupyter.widget-view+json": {
       "model_id": "b4a79d3d54c74b4593818cd1edf9d0b6",
       "version_major": 2,
       "version_minor": 0
      },
      "text/plain": [
       "0it [00:00, ?it/s]"
      ]
     },
     "metadata": {},
     "output_type": "display_data"
    },
    {
     "data": {
      "application/vnd.jupyter.widget-view+json": {
       "model_id": "0f2f00aa06334b36b46a0744177d7906",
       "version_major": 2,
       "version_minor": 0
      },
      "text/plain": [
       "0it [00:00, ?it/s]"
      ]
     },
     "metadata": {},
     "output_type": "display_data"
    },
    {
     "data": {
      "application/vnd.jupyter.widget-view+json": {
       "model_id": "21475a1ba79a4de688654a06c9f1a373",
       "version_major": 2,
       "version_minor": 0
      },
      "text/plain": [
       "0it [00:00, ?it/s]"
      ]
     },
     "metadata": {},
     "output_type": "display_data"
    },
    {
     "data": {
      "application/vnd.jupyter.widget-view+json": {
       "model_id": "01d2f331c32441bf8c96d954090b6aac",
       "version_major": 2,
       "version_minor": 0
      },
      "text/plain": [
       "0it [00:00, ?it/s]"
      ]
     },
     "metadata": {},
     "output_type": "display_data"
    },
    {
     "data": {
      "application/vnd.jupyter.widget-view+json": {
       "model_id": "5aff205079f24927801950d3988ead4d",
       "version_major": 2,
       "version_minor": 0
      },
      "text/plain": [
       "0it [00:00, ?it/s]"
      ]
     },
     "metadata": {},
     "output_type": "display_data"
    },
    {
     "data": {
      "application/vnd.jupyter.widget-view+json": {
       "model_id": "461c3225120042c99fb446509e9844cb",
       "version_major": 2,
       "version_minor": 0
      },
      "text/plain": [
       "0it [00:00, ?it/s]"
      ]
     },
     "metadata": {},
     "output_type": "display_data"
    },
    {
     "data": {
      "application/vnd.jupyter.widget-view+json": {
       "model_id": "6cee660076574ae2a3455d4475238bcd",
       "version_major": 2,
       "version_minor": 0
      },
      "text/plain": [
       "0it [00:00, ?it/s]"
      ]
     },
     "metadata": {},
     "output_type": "display_data"
    },
    {
     "data": {
      "application/vnd.jupyter.widget-view+json": {
       "model_id": "84a271f638e147d59e984229e14b9a0d",
       "version_major": 2,
       "version_minor": 0
      },
      "text/plain": [
       "0it [00:00, ?it/s]"
      ]
     },
     "metadata": {},
     "output_type": "display_data"
    },
    {
     "data": {
      "application/vnd.jupyter.widget-view+json": {
       "model_id": "4c8ce6e6fad040e5aa8ec974db2eb6ef",
       "version_major": 2,
       "version_minor": 0
      },
      "text/plain": [
       "0it [00:00, ?it/s]"
      ]
     },
     "metadata": {},
     "output_type": "display_data"
    },
    {
     "data": {
      "application/vnd.jupyter.widget-view+json": {
       "model_id": "523edada207448499471778f12e46ea1",
       "version_major": 2,
       "version_minor": 0
      },
      "text/plain": [
       "0it [00:00, ?it/s]"
      ]
     },
     "metadata": {},
     "output_type": "display_data"
    },
    {
     "data": {
      "application/vnd.jupyter.widget-view+json": {
       "model_id": "8b0447c80d3240cfa88c0331b7ec59f6",
       "version_major": 2,
       "version_minor": 0
      },
      "text/plain": [
       "0it [00:00, ?it/s]"
      ]
     },
     "metadata": {},
     "output_type": "display_data"
    },
    {
     "data": {
      "application/vnd.jupyter.widget-view+json": {
       "model_id": "7f7e0b1e8cd84b76894e99551a51ec46",
       "version_major": 2,
       "version_minor": 0
      },
      "text/plain": [
       "0it [00:00, ?it/s]"
      ]
     },
     "metadata": {},
     "output_type": "display_data"
    },
    {
     "data": {
      "application/vnd.jupyter.widget-view+json": {
       "model_id": "f838f2125a9d499181e034b0aab9f381",
       "version_major": 2,
       "version_minor": 0
      },
      "text/plain": [
       "0it [00:00, ?it/s]"
      ]
     },
     "metadata": {},
     "output_type": "display_data"
    },
    {
     "data": {
      "application/vnd.jupyter.widget-view+json": {
       "model_id": "7eb62f95d0ba405a8bd4d66ee1ad7c96",
       "version_major": 2,
       "version_minor": 0
      },
      "text/plain": [
       "0it [00:00, ?it/s]"
      ]
     },
     "metadata": {},
     "output_type": "display_data"
    },
    {
     "data": {
      "application/vnd.jupyter.widget-view+json": {
       "model_id": "16527d8acc3a48b08150e1702a27136a",
       "version_major": 2,
       "version_minor": 0
      },
      "text/plain": [
       "0it [00:00, ?it/s]"
      ]
     },
     "metadata": {},
     "output_type": "display_data"
    },
    {
     "data": {
      "application/vnd.jupyter.widget-view+json": {
       "model_id": "94f57f4df4ee45f38dc3a164bbcd350c",
       "version_major": 2,
       "version_minor": 0
      },
      "text/plain": [
       "0it [00:00, ?it/s]"
      ]
     },
     "metadata": {},
     "output_type": "display_data"
    },
    {
     "data": {
      "application/vnd.jupyter.widget-view+json": {
       "model_id": "33376da77b6c41d4951c5374c077e72a",
       "version_major": 2,
       "version_minor": 0
      },
      "text/plain": [
       "0it [00:00, ?it/s]"
      ]
     },
     "metadata": {},
     "output_type": "display_data"
    },
    {
     "name": "stderr",
     "output_type": "stream",
     "text": [
      "WARNING:pgmpy:Found unknown state name. Trying to switch to using all state names as state numbers\n",
      "WARNING:pgmpy:Found unknown state name. Trying to switch to using all state names as state numbers\n"
     ]
    },
    {
     "data": {
      "application/vnd.jupyter.widget-view+json": {
       "model_id": "5b64fc24b7844f7097e6a54fc702393d",
       "version_major": 2,
       "version_minor": 0
      },
      "text/plain": [
       "0it [00:00, ?it/s]"
      ]
     },
     "metadata": {},
     "output_type": "display_data"
    },
    {
     "data": {
      "application/vnd.jupyter.widget-view+json": {
       "model_id": "17d49910798c4aa2b4581c39fd57b002",
       "version_major": 2,
       "version_minor": 0
      },
      "text/plain": [
       "0it [00:00, ?it/s]"
      ]
     },
     "metadata": {},
     "output_type": "display_data"
    },
    {
     "data": {
      "application/vnd.jupyter.widget-view+json": {
       "model_id": "4836d8b7ee734bdbac2f595cd7b5c522",
       "version_major": 2,
       "version_minor": 0
      },
      "text/plain": [
       "0it [00:00, ?it/s]"
      ]
     },
     "metadata": {},
     "output_type": "display_data"
    },
    {
     "data": {
      "application/vnd.jupyter.widget-view+json": {
       "model_id": "dddf6145e3f741bab475ae3cdc97dd1b",
       "version_major": 2,
       "version_minor": 0
      },
      "text/plain": [
       "0it [00:00, ?it/s]"
      ]
     },
     "metadata": {},
     "output_type": "display_data"
    },
    {
     "data": {
      "application/vnd.jupyter.widget-view+json": {
       "model_id": "9c2da9ec1c0c45c2ac36c11e46c83b0b",
       "version_major": 2,
       "version_minor": 0
      },
      "text/plain": [
       "0it [00:00, ?it/s]"
      ]
     },
     "metadata": {},
     "output_type": "display_data"
    },
    {
     "data": {
      "application/vnd.jupyter.widget-view+json": {
       "model_id": "357eae3491954fe08927b265058ac2c4",
       "version_major": 2,
       "version_minor": 0
      },
      "text/plain": [
       "0it [00:00, ?it/s]"
      ]
     },
     "metadata": {},
     "output_type": "display_data"
    },
    {
     "data": {
      "application/vnd.jupyter.widget-view+json": {
       "model_id": "c3c7540490774524ad9be3b917780090",
       "version_major": 2,
       "version_minor": 0
      },
      "text/plain": [
       "0it [00:00, ?it/s]"
      ]
     },
     "metadata": {},
     "output_type": "display_data"
    },
    {
     "data": {
      "application/vnd.jupyter.widget-view+json": {
       "model_id": "d899633feaa94749bf151570a61074d6",
       "version_major": 2,
       "version_minor": 0
      },
      "text/plain": [
       "0it [00:00, ?it/s]"
      ]
     },
     "metadata": {},
     "output_type": "display_data"
    },
    {
     "data": {
      "application/vnd.jupyter.widget-view+json": {
       "model_id": "53c696009c474c44be61ab1731d5dc07",
       "version_major": 2,
       "version_minor": 0
      },
      "text/plain": [
       "0it [00:00, ?it/s]"
      ]
     },
     "metadata": {},
     "output_type": "display_data"
    },
    {
     "data": {
      "application/vnd.jupyter.widget-view+json": {
       "model_id": "b7863b803beb4b0dbf80628c045186d7",
       "version_major": 2,
       "version_minor": 0
      },
      "text/plain": [
       "0it [00:00, ?it/s]"
      ]
     },
     "metadata": {},
     "output_type": "display_data"
    },
    {
     "data": {
      "application/vnd.jupyter.widget-view+json": {
       "model_id": "679ab7ef367f49168a0f015f063265dd",
       "version_major": 2,
       "version_minor": 0
      },
      "text/plain": [
       "0it [00:00, ?it/s]"
      ]
     },
     "metadata": {},
     "output_type": "display_data"
    },
    {
     "data": {
      "application/vnd.jupyter.widget-view+json": {
       "model_id": "1808fc7fedc24b86be477452a029bbdf",
       "version_major": 2,
       "version_minor": 0
      },
      "text/plain": [
       "0it [00:00, ?it/s]"
      ]
     },
     "metadata": {},
     "output_type": "display_data"
    },
    {
     "data": {
      "application/vnd.jupyter.widget-view+json": {
       "model_id": "97b6621cb78c415481d7357fe1187098",
       "version_major": 2,
       "version_minor": 0
      },
      "text/plain": [
       "0it [00:00, ?it/s]"
      ]
     },
     "metadata": {},
     "output_type": "display_data"
    },
    {
     "data": {
      "application/vnd.jupyter.widget-view+json": {
       "model_id": "9c72caffad424bb79fee43432d8cdb09",
       "version_major": 2,
       "version_minor": 0
      },
      "text/plain": [
       "0it [00:00, ?it/s]"
      ]
     },
     "metadata": {},
     "output_type": "display_data"
    },
    {
     "data": {
      "application/vnd.jupyter.widget-view+json": {
       "model_id": "62a5f2ed152d48a49204f3f6da68a846",
       "version_major": 2,
       "version_minor": 0
      },
      "text/plain": [
       "0it [00:00, ?it/s]"
      ]
     },
     "metadata": {},
     "output_type": "display_data"
    },
    {
     "data": {
      "application/vnd.jupyter.widget-view+json": {
       "model_id": "e76a5a5cc74e4ef7bd44bb660706b5d8",
       "version_major": 2,
       "version_minor": 0
      },
      "text/plain": [
       "0it [00:00, ?it/s]"
      ]
     },
     "metadata": {},
     "output_type": "display_data"
    },
    {
     "name": "stdout",
     "output_type": "stream",
     "text": [
      "   Age         Diet ActivityLevel  WeightLoss\n",
      "0   40  1287.188805             1    5.315020\n",
      "1   36  1757.059509             2    5.969944\n",
      "2   64  1679.476888             3    6.573033\n",
      "3   28  1894.734777             3    5.768518\n",
      "4   34   565.378175             3    4.870618\n",
      "<class 'pandas.core.frame.DataFrame'>\n",
      "RangeIndex: 200 entries, 0 to 199\n",
      "Data columns (total 4 columns):\n",
      " #   Column         Non-Null Count  Dtype   \n",
      "---  ------         --------------  -----   \n",
      " 0   Age            200 non-null    int64   \n",
      " 1   Diet           200 non-null    float64 \n",
      " 2   ActivityLevel  200 non-null    category\n",
      " 3   WeightLoss     200 non-null    float64 \n",
      "dtypes: category(1), float64(2), int64(1)\n",
      "memory usage: 5.1 KB\n"
     ]
    }
   ],
   "source": [
    "# Bayesian Imputation\n",
    "from pgmpy.models import BayesianNetwork\n",
    "from pgmpy.estimators import MaximumLikelihoodEstimator\n",
    "from pgmpy.inference import VariableElimination\n",
    "\n",
    "df_bayesian_imputed = df.copy()\n",
    "\n",
    "# Identify all possible categories in the original dataset for 'ActivityLevel'\n",
    "all_activity_levels = df['ActivityLevel'].unique().astype(str)  # Ensure it's string\n",
    "\n",
    "# Convert 'ActivityLevel' to categorical with explicitly specifying the categories\n",
    "df_bayesian_imputed['ActivityLevel'] = pd.Categorical(df_bayesian_imputed['ActivityLevel'].astype(str), categories=all_activity_levels)\n",
    "\n",
    "# Defining the structure of our Bayesian Network\n",
    "model = BayesianNetwork([\n",
    "    ('Age', 'Diet'), \n",
    "    ('ActivityLevel', 'Diet')\n",
    "])\n",
    "\n",
    "model.fit(df_bayesian_imputed.dropna(subset=['Diet']), estimator=MaximumLikelihoodEstimator)\n",
    "\n",
    "inference = VariableElimination(model)\n",
    "\n",
    "def impute_diet(row):\n",
    "    if pd.isnull(row['Diet']):\n",
    "        evidence = {'Age': row['Age'], 'ActivityLevel': str(row['ActivityLevel'])}\n",
    "        try:\n",
    "            estimated_diet = inference.map_query(variables=['Diet'], evidence=evidence)['Diet']\n",
    "            return estimated_diet\n",
    "        except Exception as e:\n",
    "            print(f\"Error during inference: {e}\")\n",
    "            return np.nan  # In case of an inference error, return NaN\n",
    "    else:\n",
    "        return row['Diet']\n",
    "\n",
    "\n",
    "df_bayesian_imputed['Diet'] = df_bayesian_imputed.apply(impute_diet, axis=1)\n",
    "\n",
    "print(df_bayesian_imputed.head())\n",
    "df_bayesian_imputed.info()"
   ]
  },
  {
   "cell_type": "code",
   "execution_count": 190,
   "metadata": {},
   "outputs": [
    {
     "name": "stdout",
     "output_type": "stream",
     "text": [
      "MSE with No Imputation: 1.7094755307049054\n",
      "MSE with Simple Imputation: 1.3058391233614566\n",
      "MSE with Bayesian (Simulated) Imputation: 1.2789496643591782\n"
     ]
    }
   ],
   "source": [
    "\n",
    "\n",
    "def model_performance(dataframe, strategy):\n",
    "    dataframe = pd.get_dummies(dataframe, columns=['ActivityLevel'], drop_first=True)\n",
    "    X = dataframe.drop(columns='WeightLoss', axis=1)\n",
    "    y = dataframe['WeightLoss']\n",
    "    X_train, X_test, y_train, y_test = train_test_split(X, y, test_size=0.2, random_state=42)\n",
    "    model = LinearRegression()\n",
    "    model.fit(X_train, y_train)\n",
    "    y_pred = model.predict(X_test)\n",
    "\n",
    "    results_df = pd.DataFrame({\n",
    "    'Actual': y_test,\n",
    "    'Predicted': y_pred,\n",
    "    'Error': y_test - y_pred,\n",
    "    'Strategy': [strategy] * len(y_test)\n",
    "    })\n",
    "\n",
    "    return mean_squared_error(y_test, y_pred), results_df\n",
    "\n",
    "# Calculate MSE for each imputation strategy\n",
    "mse_no_imp, results_no_imp = model_performance(df_no_imputation, 'No Imputation')\n",
    "mse_simple_imp, results_simple_imp = model_performance(df_simple_imputed, 'Simple Imputation')\n",
    "mse_bayesian_imp, results_bayesian_imp = model_performance(df_bayesian_imputed, 'Bayesian Imputation')\n",
    "\n",
    "print(f\"MSE with No Imputation: {mse_no_imp}\")\n",
    "print(f\"MSE with Simple Imputation: {mse_simple_imp}\")\n",
    "print(f\"MSE with Bayesian (Simulated) Imputation: {mse_bayesian_imp}\")"
   ]
  },
  {
   "cell_type": "markdown",
   "metadata": {},
   "source": [
    "Why Propensity Score Matching?\n",
    "Propensity score matching attempts to estimate the effect of a treatment (in this case, different diet regimens) by matching units (participants) with similar propensity scores but different treatment statuses. The propensity score is the probability of treatment assignment conditional on observed covariates. By matching on these scores, we theoretically balance the observed covariates across treatment and control groups, mimicking a randomized control trial.\n",
    "\n",
    "Steps for Propensity Score Matching:\n",
    "Estimate Propensity Scores: We'll still use logistic regression to estimate the propensity scores based on the covariates.\n",
    "Matching Using NearestNeighborMatch: We will use the NearestNeighborMatch for matching based on these propensity scores.\n",
    "Analyze the Matched Data: Compare the outcomes between the matched groups."
   ]
  },
  {
   "cell_type": "markdown",
   "metadata": {},
   "source": [
    "Average Treatment Effect (ATE):\n",
    "The ATE you've calculated, 0.7488, indicates the average increase in weight loss associated with the treatment (here assumed to be a higher calorie diet) compared to the control (a lower calorie diet) across the matched samples. This value suggests that on average, being on the treatment diet leads to a 0.7488 units increase in weight loss compared to not being on that diet, after accounting for activity level."
   ]
  },
  {
   "cell_type": "code",
   "execution_count": 191,
   "metadata": {},
   "outputs": [
    {
     "name": "stdout",
     "output_type": "stream",
     "text": [
      "MSE with No Imputation: 1.7094755307049054\n",
      "MSE with Simple Imputation: 1.3058391233614566\n",
      "MSE with Bayesian (Simulated) Imputation: 1.2789496643591782\n"
     ]
    },
    {
     "data": {
      "text/html": [
       "<div>\n",
       "<style scoped>\n",
       "    .dataframe tbody tr th:only-of-type {\n",
       "        vertical-align: middle;\n",
       "    }\n",
       "\n",
       "    .dataframe tbody tr th {\n",
       "        vertical-align: top;\n",
       "    }\n",
       "\n",
       "    .dataframe thead th {\n",
       "        text-align: right;\n",
       "    }\n",
       "</style>\n",
       "<table border=\"1\" class=\"dataframe\">\n",
       "  <thead>\n",
       "    <tr style=\"text-align: right;\">\n",
       "      <th></th>\n",
       "      <th>Actual</th>\n",
       "      <th>Predicted</th>\n",
       "      <th>Error</th>\n",
       "      <th>Strategy</th>\n",
       "    </tr>\n",
       "  </thead>\n",
       "  <tbody>\n",
       "    <tr>\n",
       "      <th>180</th>\n",
       "      <td>5.649509</td>\n",
       "      <td>4.139460</td>\n",
       "      <td>1.510049</td>\n",
       "      <td>No Imputation</td>\n",
       "    </tr>\n",
       "    <tr>\n",
       "      <th>166</th>\n",
       "      <td>4.424957</td>\n",
       "      <td>3.987927</td>\n",
       "      <td>0.437030</td>\n",
       "      <td>No Imputation</td>\n",
       "    </tr>\n",
       "    <tr>\n",
       "      <th>118</th>\n",
       "      <td>2.210965</td>\n",
       "      <td>4.627592</td>\n",
       "      <td>-2.416627</td>\n",
       "      <td>No Imputation</td>\n",
       "    </tr>\n",
       "    <tr>\n",
       "      <th>148</th>\n",
       "      <td>4.635118</td>\n",
       "      <td>5.702011</td>\n",
       "      <td>-1.066893</td>\n",
       "      <td>No Imputation</td>\n",
       "    </tr>\n",
       "    <tr>\n",
       "      <th>162</th>\n",
       "      <td>1.317363</td>\n",
       "      <td>4.268305</td>\n",
       "      <td>-2.950942</td>\n",
       "      <td>No Imputation</td>\n",
       "    </tr>\n",
       "  </tbody>\n",
       "</table>\n",
       "</div>"
      ],
      "text/plain": [
       "       Actual  Predicted     Error       Strategy\n",
       "180  5.649509   4.139460  1.510049  No Imputation\n",
       "166  4.424957   3.987927  0.437030  No Imputation\n",
       "118  2.210965   4.627592 -2.416627  No Imputation\n",
       "148  4.635118   5.702011 -1.066893  No Imputation\n",
       "162  1.317363   4.268305 -2.950942  No Imputation"
      ]
     },
     "execution_count": 191,
     "metadata": {},
     "output_type": "execute_result"
    }
   ],
   "source": [
    "\n",
    "print(f\"MSE with No Imputation: {mse_no_imp}\")\n",
    "print(f\"MSE with Simple Imputation: {mse_simple_imp}\")\n",
    "print(f\"MSE with Bayesian (Simulated) Imputation: {mse_bayesian_imp}\")\n",
    "\n",
    "all_results = pd.concat([results_no_imp, results_simple_imp, results_bayesian_imp])\n",
    "all_results.head()"
   ]
  },
  {
   "cell_type": "markdown",
   "metadata": {},
   "source": [
    "MSE with Matched Data (1.121): This is the lowest among all the methods, indicating that the linear regression model trained on the propensity score-matched dataset predicts weight loss most accurately. This is likely because the matching process effectively controls for confounders (Diet, Activity Level, and now Age), providing a dataset that closely mimics a randomized controlled trial.\n",
    "MSE with Simple Imputation (1.297): The next best method in terms of prediction accuracy. While it provides reasonable predictions, it may still introduce some bias if the missingness is related to unobserved variables.\n",
    "MSE with Bayesian (Simulated) Imputation (1.461): Shows better performance than not imputing but is not as effective as simple imputation in this case. This might be due to the simulated nature of the Bayesian approach or the specifics of how missingness interacts with the observed and unobserved data.\n",
    "MSE with No Imputation (1.711): Predictably, this method performs the worst as it involves losing data, which can significantly impact both the training of the model and its generalization capability."
   ]
  },
  {
   "cell_type": "code",
   "execution_count": 192,
   "metadata": {},
   "outputs": [
    {
     "data": {
      "image/png": "[encoded data removed]",
      "text/plain": [
       "<Figure size 1000x600 with 1 Axes>"
      ]
     },
     "metadata": {},
     "output_type": "display_data"
    }
   ],
   "source": [
    "mse_values = {\n",
    "    'No Imputation': mse_no_imp,\n",
    "    'Simple Imputation': mse_simple_imp,\n",
    "    'Bayesian Imputation': mse_bayesian_imp,\n",
    "}\n",
    "\n",
    "mse_df = pd.DataFrame(list(mse_values.items()), columns=['Imputation Strategy', 'MSE'])\n",
    "\n",
    "# Plotting\n",
    "plt.figure(figsize=(10, 6))\n",
    "plt.bar(mse_df['Imputation Strategy'], mse_df['MSE'], color=['red', 'green', 'blue'])\n",
    "plt.xlabel('Imputation Strategy')\n",
    "plt.ylabel('Mean Squared Error (MSE)')\n",
    "plt.title('Comparison of MSE Across Different Imputation Strategies')\n",
    "plt.ylim(1.0, 1.8)  # Adjusting the y-axis to better highlight differences\n",
    "plt.show()"
   ]
  },
  {
   "cell_type": "code",
   "execution_count": 195,
   "metadata": {},
   "outputs": [
    {
     "data": {
      "image/png": "[encoded data removed]",
      "text/plain": [
       "<Figure size 1200x800 with 1 Axes>"
      ]
     },
     "metadata": {},
     "output_type": "display_data"
    }
   ],
   "source": [
    "import matplotlib.pyplot as plt\n",
    "\n",
    "plt.figure(figsize=(12, 8))\n",
    "for method, group in all_results.groupby('Strategy'):\n",
    "    plt.scatter(group['Actual'], group['Predicted'], alpha=0.9, label=method)\n",
    "\n",
    "plt.xlabel('Actual Weight Loss')\n",
    "plt.ylabel('Predicted Weight Loss')\n",
    "plt.title('Comparison of Actual vs. Predicted Weight Loss Across Different Imputation Methods')\n",
    "plt.legend()\n",
    "plt.grid(True)\n",
    "plt.show()"
   ]
  }
 ],
 "metadata": {
  "kernelspec": {
   "display_name": "venv",
   "language": "python",
   "name": "python3"
  },
  "language_info": {
   "codemirror_mode": {
    "name": "ipython",
    "version": 3
   },
   "file_extension": ".py",
   "mimetype": "text/x-python",
   "name": "python",
   "nbconvert_exporter": "python",
   "pygments_lexer": "ipython3",
   "version": "3.11.5"
  }
 },
 "nbformat": 4,
 "nbformat_minor": 2
}
