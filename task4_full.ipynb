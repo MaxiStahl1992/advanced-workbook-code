{
 "cells": [
  {
   "cell_type": "markdown",
   "metadata": {},
   "source": [
    "# Task 4 - Educational Platform and the Front Door Criterion"
   ]
  },
  {
   "cell_type": "markdown",
   "metadata": {},
   "source": [
    "## Example\n",
    "### Scenario\n",
    "The goal is to use the front door criterion to measure the causal effect of motivational messages on student engagement. \n",
    "\n",
    "### Steps:\n",
    "1. Use DAG to visualize Data relationships\n",
    "2. Create Data\n",
    "3. First stage (Model the effect of X on M):\n",
    "* This model estimates the impact of the treatment (sending messages) on the students study habits \n",
    "* P(M=m ∣ X=x) = β0,M +β1,M * x\n",
    "4. Second stage (Model the effect of M on Y, controlling for X):\n",
    "* This model estimates the effect of study habits on student engagement, while controlling for the direct effect of the motivational messages. \n",
    "* P(Y=y | X=x’, M=m) = β0,Y + β1,Y * x’ + β2,Y * m\n",
    "5. Calculate Marginal Probability\n",
    "*  P(X=x’) = empirical distribution\n",
    "6. Compute the expected values\n",
    "* E[Y ∣ do(X=x)] = ∑m P(M=m ∣ X=x) ∑x’ P(Y ∣ X=x’, M=m) P(X=x’)\n",
    "7. Estimate the causal effect\n",
    "* Causal Effect = E[Y | do(X=1)] – E[Y | do (X=0)]\n",
    "\n",
    "### Variables: \n",
    "* X (Treatment): Motivational message (0 = not sent , 1 = sent)\n",
    "* Y (Outcome): Student engagement measured on a continous scale from 0 to 1\n",
    "* M (Mediator): Study habits measured on a scale from 0 to 1.\n",
    "* U (Unmeasured Confounder): This could be the socioeconomic status, or the students mood for this example it will be introduced on a continous scale from 0 to 1. Only for data generation purposes.\n",
    "\n",
    "### Front Door Criterion:\n",
    "1.\t M (Mediator) intercepts all direct paths from X (intervention or treatment) to Y (out-come):\n",
    "The primary causal pathway should be X→M→Y, with no direct edge from X to Y.\n",
    "In the example case the only direct path from X to Y through M. \n",
    "Condition is met.\n",
    "2.\t No unblocked backdoor path from X to M:\n",
    "There should not be any confounders that open a backdoor path from X to M. \n",
    "In the example case there is no backdoor path from X to M.\n",
    "Condition is met.\n",
    "3.\t All backdoor paths from M to Y are blocked by X:\n",
    "Potential confounders affecting both M and Y should be blocked by X.\n",
    "In the example the unmeasured confounder U does not directly affect M. \n",
    "Condition is met.\n",
    "\n",
    "\n",
    "### Basic Formulas\n",
    "1. Front Door Adjustment Formula:\n",
    "* P[Y ∣ do(X=x)] = ∑m P(M=m ∣ X=x) ∑x’ P(Y ∣ X=x’, M=m) P(X=x’)\n",
    "2. Expected Value Calculation\n",
    "* E[Y ∣ do(X=x)] = ∑m P(M=m ∣ X=x) ∑x’ P(Y ∣ X=x’, M=m) P(X=x’)"
   ]
  },
  {
   "cell_type": "code",
   "execution_count": 231,
   "metadata": {},
   "outputs": [],
   "source": [
    "import numpy as np\n",
    "import pandas as pd\n",
    "import networkx as nx\n",
    "import matplotlib.pyplot as plt\n",
    "\n",
    "from sklearn.model_selection import train_test_split\n",
    "from sklearn.linear_model import LinearRegression\n",
    "from sklearn.metrics import roc_auc_score\n",
    "from scipy.special import expit as sigmoid"
   ]
  },
  {
   "cell_type": "code",
   "execution_count": 236,
   "metadata": {},
   "outputs": [
    {
     "data": {
      "image/png": "[encoded data removed]",
      "text/plain": [
       "<Figure size 1000x500 with 1 Axes>"
      ]
     },
     "metadata": {},
     "output_type": "display_data"
    }
   ],
   "source": [
    "# Create a directed graph\n",
    "dag = nx.DiGraph()\n",
    "\n",
    "# Add nodes with labels\n",
    "nodes = {\n",
    "    'X': 'Motivational Messages (X)',\n",
    "    'M': 'Study Habits (M)',\n",
    "    'Y': 'Student Engagement (Y)',\n",
    "    'U': 'Unmeasured Confounders (U)',\n",
    "}\n",
    "\n",
    "# Add edges with labels\n",
    "edges = [\n",
    "    ('X', 'M'),\n",
    "    ('M', 'Y'),\n",
    "    ('U', 'Y'),\n",
    "    ('U', 'X')\n",
    "]\n",
    "\n",
    "dag.add_edges_from(edges)\n",
    "\n",
    "plt.figure(figsize=(10, 5))\n",
    "\n",
    "pos = nx.circular_layout(dag)\n",
    "nx.draw(dag, pos, with_labels=False, node_size=3000, node_color='skyblue', font_size=9, font_weight='bold')\n",
    "\n",
    "for p in pos:  # raise text positions\n",
    "    pos[p][1] += 0.0\n",
    "nx.draw_networkx_labels(dag, pos, labels=nodes, font_size=8)\n",
    "\n",
    "\n",
    "plt.title('DAG for Educational Platform', fontweight='bold')\n",
    "plt.show() "
   ]
  },
  {
   "cell_type": "code",
   "execution_count": 233,
   "metadata": {},
   "outputs": [
    {
     "data": {
      "text/html": [
       "<div>\n",
       "<style scoped>\n",
       "    .dataframe tbody tr th:only-of-type {\n",
       "        vertical-align: middle;\n",
       "    }\n",
       "\n",
       "    .dataframe tbody tr th {\n",
       "        vertical-align: top;\n",
       "    }\n",
       "\n",
       "    .dataframe thead th {\n",
       "        text-align: right;\n",
       "    }\n",
       "</style>\n",
       "<table border=\"1\" class=\"dataframe\">\n",
       "  <thead>\n",
       "    <tr style=\"text-align: right;\">\n",
       "      <th></th>\n",
       "      <th>U</th>\n",
       "      <th>X</th>\n",
       "      <th>M</th>\n",
       "      <th>Y</th>\n",
       "    </tr>\n",
       "  </thead>\n",
       "  <tbody>\n",
       "    <tr>\n",
       "      <th>0</th>\n",
       "      <td>0.576813</td>\n",
       "      <td>0</td>\n",
       "      <td>0.613234</td>\n",
       "      <td>0.678438</td>\n",
       "    </tr>\n",
       "    <tr>\n",
       "      <th>1</th>\n",
       "      <td>2.131109</td>\n",
       "      <td>1</td>\n",
       "      <td>0.711984</td>\n",
       "      <td>0.726367</td>\n",
       "    </tr>\n",
       "    <tr>\n",
       "      <th>2</th>\n",
       "      <td>2.440220</td>\n",
       "      <td>0</td>\n",
       "      <td>0.607327</td>\n",
       "      <td>0.710669</td>\n",
       "    </tr>\n",
       "    <tr>\n",
       "      <th>3</th>\n",
       "      <td>0.263327</td>\n",
       "      <td>1</td>\n",
       "      <td>0.689855</td>\n",
       "      <td>0.698325</td>\n",
       "    </tr>\n",
       "    <tr>\n",
       "      <th>4</th>\n",
       "      <td>-1.496121</td>\n",
       "      <td>1</td>\n",
       "      <td>0.665414</td>\n",
       "      <td>0.580657</td>\n",
       "    </tr>\n",
       "  </tbody>\n",
       "</table>\n",
       "</div>"
      ],
      "text/plain": [
       "          U  X         M         Y\n",
       "0  0.576813  0  0.613234  0.678438\n",
       "1  2.131109  1  0.711984  0.726367\n",
       "2  2.440220  0  0.607327  0.710669\n",
       "3  0.263327  1  0.689855  0.698325\n",
       "4 -1.496121  1  0.665414  0.580657"
      ]
     },
     "execution_count": 233,
     "metadata": {},
     "output_type": "execute_result"
    }
   ],
   "source": [
    "# Data Generation\n",
    "np.random.seed(73)\n",
    "data_size = 1000\n",
    "\n",
    "def sigmoid(x):\n",
    "    return 1/(1+np.exp(-x))\n",
    "\n",
    "# Confounder U\n",
    "U = np.random.normal(0, 1, data_size) #random continous variable, this is would not be measured in real world data but we need it to simulate the effect of unmeasured confounders\n",
    "\n",
    "# Treatment/Intervention X\n",
    "X = np.random.binomial(1, 0.5 + 0.2 * U / 10, data_size)  #Probability influenced by U\n",
    "\n",
    "# Mediator M\n",
    "M = sigmoid(0.5 + 0.3 * X + np.random.normal(0, 0.1, data_size)) #Influenced by X, we assume that habits can be measured on a continuous scale\n",
    "\n",
    "# Outcome Y\n",
    "Y = sigmoid(0.5 + 0.3 * M + 0.1 * U + np.random.normal(0, 0.1, data_size)) #Influenced by M and U\n",
    "\n",
    "df = pd.DataFrame({'U': U, 'X': X, 'M': M, 'Y': Y})\n",
    "\n",
    "df.head()"
   ]
  },
  {
   "cell_type": "code",
   "execution_count": 234,
   "metadata": {},
   "outputs": [
    {
     "name": "stdout",
     "output_type": "stream",
     "text": [
      "Estimated Causal Effect of X on Y: 0.04501340468169773\n"
     ]
    }
   ],
   "source": [
    "\n",
    "# Step 1: Estimate P(M|X) using linear regression\n",
    "model_m_x = LinearRegression()\n",
    "model_m_x.fit(df[['X']], df['M'])\n",
    "\n",
    "# Predict P(M|X)\n",
    "df['P_M_given_X'] = model_m_x.predict(df[['X']])\n",
    "\n",
    "# Step 2: Estimate P(Y|X, M) using linear regression\n",
    "model_y_xm = LinearRegression()\n",
    "model_y_xm.fit(df[['X', 'M']], df['Y'])\n",
    "\n",
    "# Predict P(Y|X, M)\n",
    "df['P_Y_given_XM'] = model_y_xm.predict(df[['X', 'M']])\n",
    "\n",
    "# Step 3: Calculate the marginal probability of X\n",
    "p_x_prime = df['X'].value_counts(normalize=True).sort_index()\n",
    "\n",
    "# Step 4: Calculate E[Y|do(X=1)] and E[Y|do(X=0)] using the full formula\n",
    "def calculate_do_y(df, x_value):\n",
    "    do_y = 0\n",
    "    unique_m_values = np.linspace(df['M'].min(), df['M'].max(), 100)  # Discretize M\n",
    "    for m_value in unique_m_values:\n",
    "        p_m_given_x = model_m_x.predict(pd.DataFrame({'X': [x_value]}))[0]\n",
    "        inner_sum = 0\n",
    "        for x_prime in p_x_prime.index:\n",
    "            p_y_given_xm = model_y_xm.predict(pd.DataFrame({'X': [x_prime], 'M': [m_value]}))[0]\n",
    "            inner_sum += p_y_given_xm * p_x_prime[x_prime]\n",
    "        do_y += inner_sum * p_m_given_x\n",
    "    return do_y / len(unique_m_values)\n",
    "\n",
    "do_y_given_x1 = calculate_do_y(df, 1)\n",
    "do_y_given_x0 = calculate_do_y(df, 0)\n",
    "\n",
    "# Estimate the causal effect of X on Y\n",
    "causal_effect = do_y_given_x1 - do_y_given_x0\n",
    "print(f'Estimated Causal Effect of X on Y: {causal_effect}')"
   ]
  },
  {
   "cell_type": "markdown",
   "metadata": {},
   "source": [
    "### Interpretation of Results\n",
    "The data used here leads to an estimated causal effect of 4.5%, which can be good or bad depending on the goal of the intervention. "
   ]
  }
 ],
 "metadata": {
  "kernelspec": {
   "display_name": "venv",
   "language": "python",
   "name": "python3"
  },
  "language_info": {
   "codemirror_mode": {
    "name": "ipython",
    "version": 3
   },
   "file_extension": ".py",
   "mimetype": "text/x-python",
   "name": "python",
   "nbconvert_exporter": "python",
   "pygments_lexer": "ipython3",
   "version": "3.11.5"
  }
 },
 "nbformat": 4,
 "nbformat_minor": 2
}
